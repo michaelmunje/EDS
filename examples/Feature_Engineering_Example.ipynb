{
 "cells": [
  {
   "cell_type": "code",
   "execution_count": 1,
   "metadata": {},
   "outputs": [],
   "source": [
    "import os\n",
    "os.chdir('..')\n",
    "import ds_utils\n",
    "from sklearn.datasets import load_boston\n",
    "import pandas as pd\n",
    "import numpy as np"
   ]
  },
  {
   "cell_type": "code",
   "execution_count": 2,
   "metadata": {},
   "outputs": [],
   "source": [
    "boston = load_boston()\n",
    "df = pd.DataFrame(boston.data, columns=boston.feature_names)"
   ]
  },
  {
   "cell_type": "code",
   "execution_count": 3,
   "metadata": {},
   "outputs": [
    {
     "data": {
      "text/html": [
       "<div>\n",
       "<style scoped>\n",
       "    .dataframe tbody tr th:only-of-type {\n",
       "        vertical-align: middle;\n",
       "    }\n",
       "\n",
       "    .dataframe tbody tr th {\n",
       "        vertical-align: top;\n",
       "    }\n",
       "\n",
       "    .dataframe thead th {\n",
       "        text-align: right;\n",
       "    }\n",
       "</style>\n",
       "<table border=\"1\" class=\"dataframe\">\n",
       "  <thead>\n",
       "    <tr style=\"text-align: right;\">\n",
       "      <th></th>\n",
       "      <th>CRIM</th>\n",
       "      <th>ZN</th>\n",
       "      <th>INDUS</th>\n",
       "      <th>CHAS</th>\n",
       "      <th>NOX</th>\n",
       "      <th>RM</th>\n",
       "      <th>AGE</th>\n",
       "      <th>DIS</th>\n",
       "      <th>RAD</th>\n",
       "      <th>TAX</th>\n",
       "      <th>PTRATIO</th>\n",
       "      <th>B</th>\n",
       "      <th>LSTAT</th>\n",
       "    </tr>\n",
       "  </thead>\n",
       "  <tbody>\n",
       "    <tr>\n",
       "      <th>0</th>\n",
       "      <td>0.00632</td>\n",
       "      <td>18.0</td>\n",
       "      <td>2.31</td>\n",
       "      <td>0.0</td>\n",
       "      <td>0.538</td>\n",
       "      <td>6.575</td>\n",
       "      <td>65.2</td>\n",
       "      <td>4.0900</td>\n",
       "      <td>1.0</td>\n",
       "      <td>296.0</td>\n",
       "      <td>15.3</td>\n",
       "      <td>396.90</td>\n",
       "      <td>4.98</td>\n",
       "    </tr>\n",
       "    <tr>\n",
       "      <th>1</th>\n",
       "      <td>0.02731</td>\n",
       "      <td>0.0</td>\n",
       "      <td>7.07</td>\n",
       "      <td>0.0</td>\n",
       "      <td>0.469</td>\n",
       "      <td>6.421</td>\n",
       "      <td>78.9</td>\n",
       "      <td>4.9671</td>\n",
       "      <td>2.0</td>\n",
       "      <td>242.0</td>\n",
       "      <td>17.8</td>\n",
       "      <td>396.90</td>\n",
       "      <td>9.14</td>\n",
       "    </tr>\n",
       "    <tr>\n",
       "      <th>2</th>\n",
       "      <td>0.02729</td>\n",
       "      <td>0.0</td>\n",
       "      <td>7.07</td>\n",
       "      <td>0.0</td>\n",
       "      <td>0.469</td>\n",
       "      <td>7.185</td>\n",
       "      <td>61.1</td>\n",
       "      <td>4.9671</td>\n",
       "      <td>2.0</td>\n",
       "      <td>242.0</td>\n",
       "      <td>17.8</td>\n",
       "      <td>392.83</td>\n",
       "      <td>4.03</td>\n",
       "    </tr>\n",
       "    <tr>\n",
       "      <th>3</th>\n",
       "      <td>0.03237</td>\n",
       "      <td>0.0</td>\n",
       "      <td>2.18</td>\n",
       "      <td>0.0</td>\n",
       "      <td>0.458</td>\n",
       "      <td>6.998</td>\n",
       "      <td>45.8</td>\n",
       "      <td>6.0622</td>\n",
       "      <td>3.0</td>\n",
       "      <td>222.0</td>\n",
       "      <td>18.7</td>\n",
       "      <td>394.63</td>\n",
       "      <td>2.94</td>\n",
       "    </tr>\n",
       "    <tr>\n",
       "      <th>4</th>\n",
       "      <td>0.06905</td>\n",
       "      <td>0.0</td>\n",
       "      <td>2.18</td>\n",
       "      <td>0.0</td>\n",
       "      <td>0.458</td>\n",
       "      <td>7.147</td>\n",
       "      <td>54.2</td>\n",
       "      <td>6.0622</td>\n",
       "      <td>3.0</td>\n",
       "      <td>222.0</td>\n",
       "      <td>18.7</td>\n",
       "      <td>396.90</td>\n",
       "      <td>5.33</td>\n",
       "    </tr>\n",
       "  </tbody>\n",
       "</table>\n",
       "</div>"
      ],
      "text/plain": [
       "      CRIM    ZN  INDUS  CHAS    NOX     RM   AGE     DIS  RAD    TAX  \\\n",
       "0  0.00632  18.0   2.31   0.0  0.538  6.575  65.2  4.0900  1.0  296.0   \n",
       "1  0.02731   0.0   7.07   0.0  0.469  6.421  78.9  4.9671  2.0  242.0   \n",
       "2  0.02729   0.0   7.07   0.0  0.469  7.185  61.1  4.9671  2.0  242.0   \n",
       "3  0.03237   0.0   2.18   0.0  0.458  6.998  45.8  6.0622  3.0  222.0   \n",
       "4  0.06905   0.0   2.18   0.0  0.458  7.147  54.2  6.0622  3.0  222.0   \n",
       "\n",
       "   PTRATIO       B  LSTAT  \n",
       "0     15.3  396.90   4.98  \n",
       "1     17.8  396.90   9.14  \n",
       "2     17.8  392.83   4.03  \n",
       "3     18.7  394.63   2.94  \n",
       "4     18.7  396.90   5.33  "
      ]
     },
     "execution_count": 3,
     "metadata": {},
     "output_type": "execute_result"
    }
   ],
   "source": [
    "df.head()"
   ]
  },
  {
   "cell_type": "code",
   "execution_count": 4,
   "metadata": {},
   "outputs": [
    {
     "name": "stdout",
     "output_type": "stream",
     "text": [
      "Feature ranking:\n",
      "LSTAT\t : 0.34\n",
      "RM\t : 0.33\n",
      "PTRATIO\t : 0.06\n",
      "TAX\t : 0.05\n",
      "NOX\t : 0.04\n",
      "INDUS\t : 0.04\n",
      "CRIM\t : 0.03\n",
      "DIS\t : 0.03\n",
      "AGE\t : 0.02\n",
      "RAD\t : 0.02\n",
      "B\t : 0.02\n",
      "CHAS\t : 0.02\n",
      "ZN\t : 0.0\n"
     ]
    },
    {
     "data": {
      "image/png": "[encoded data removed]",
      "text/plain": [
       "<Figure size 576x576 with 1 Axes>"
      ]
     },
     "metadata": {
      "needs_background": "light"
     },
     "output_type": "display_data"
    }
   ],
   "source": [
    "ds_utils.feature_engineering.rank_features(df.values, boston.target, classify=False, plot=True, columns=df.columns)"
   ]
  },
  {
   "cell_type": "code",
   "execution_count": 5,
   "metadata": {},
   "outputs": [
    {
     "data": {
      "image/png": "[encoded data removed]",
      "text/plain": [
       "<Figure size 576x576 with 1 Axes>"
      ]
     },
     "metadata": {
      "needs_background": "light"
     },
     "output_type": "display_data"
    }
   ],
   "source": [
    "ds_utils.visualize.plot_hist_distribution(df, 'LSTAT')"
   ]
  },
  {
   "cell_type": "code",
   "execution_count": 6,
   "metadata": {},
   "outputs": [],
   "source": [
    "df = ds_utils.feature_engineering.adjust_skewness(df)"
   ]
  },
  {
   "cell_type": "code",
   "execution_count": 7,
   "metadata": {},
   "outputs": [
    {
     "data": {
      "image/png": "[encoded data removed]",
      "text/plain": [
       "<Figure size 576x576 with 1 Axes>"
      ]
     },
     "metadata": {
      "needs_background": "light"
     },
     "output_type": "display_data"
    }
   ],
   "source": [
    "ds_utils.visualize.plot_hist_distribution(df, 'LSTAT')"
   ]
  },
  {
   "cell_type": "code",
   "execution_count": 8,
   "metadata": {},
   "outputs": [],
   "source": [
    "df['price'] = boston.target"
   ]
  },
  {
   "cell_type": "code",
   "execution_count": 9,
   "metadata": {},
   "outputs": [
    {
     "name": "stdout",
     "output_type": "stream",
     "text": [
      "CRIM  :  -0.47\n",
      "INDUS  :  -0.52\n",
      "NOX  :  -0.43\n",
      "RM  :  0.67\n",
      "TAX  :  -0.47\n",
      "PTRATIO  :  -0.5\n",
      "LSTAT  :  -0.8\n"
     ]
    }
   ],
   "source": [
    "ds_utils.feature_engineering.print_moderate_correlations(df, 'price')"
   ]
  },
  {
   "cell_type": "code",
   "execution_count": 10,
   "metadata": {},
   "outputs": [],
   "source": [
    "dummy_rands = np.random.rand(len(df))\n",
    "nanify = lambda x: np.nan if x < 0.5 else x\n",
    "nanify_v = np.vectorize(nanify)\n",
    "dummy_nans = nanify_v(dummy_rands)"
   ]
  },
  {
   "cell_type": "code",
   "execution_count": 11,
   "metadata": {},
   "outputs": [
    {
     "data": {
      "text/html": [
       "<div>\n",
       "<style scoped>\n",
       "    .dataframe tbody tr th:only-of-type {\n",
       "        vertical-align: middle;\n",
       "    }\n",
       "\n",
       "    .dataframe tbody tr th {\n",
       "        vertical-align: top;\n",
       "    }\n",
       "\n",
       "    .dataframe thead th {\n",
       "        text-align: right;\n",
       "    }\n",
       "</style>\n",
       "<table border=\"1\" class=\"dataframe\">\n",
       "  <thead>\n",
       "    <tr style=\"text-align: right;\">\n",
       "      <th></th>\n",
       "      <th>CRIM</th>\n",
       "      <th>ZN</th>\n",
       "      <th>INDUS</th>\n",
       "      <th>CHAS</th>\n",
       "      <th>NOX</th>\n",
       "      <th>RM</th>\n",
       "      <th>AGE</th>\n",
       "      <th>DIS</th>\n",
       "      <th>RAD</th>\n",
       "      <th>TAX</th>\n",
       "      <th>PTRATIO</th>\n",
       "      <th>B</th>\n",
       "      <th>LSTAT</th>\n",
       "      <th>price</th>\n",
       "      <th>new_feat</th>\n",
       "    </tr>\n",
       "  </thead>\n",
       "  <tbody>\n",
       "    <tr>\n",
       "      <th>0</th>\n",
       "      <td>0.006303</td>\n",
       "      <td>3.701973</td>\n",
       "      <td>1.311130</td>\n",
       "      <td>0.0</td>\n",
       "      <td>0.444686</td>\n",
       "      <td>2.366003</td>\n",
       "      <td>5.837001</td>\n",
       "      <td>1.843076</td>\n",
       "      <td>0.730463</td>\n",
       "      <td>8.994431</td>\n",
       "      <td>3.466306</td>\n",
       "      <td>9.696782</td>\n",
       "      <td>2.051274</td>\n",
       "      <td>24.0</td>\n",
       "      <td>NaN</td>\n",
       "    </tr>\n",
       "    <tr>\n",
       "      <th>1</th>\n",
       "      <td>0.026998</td>\n",
       "      <td>0.000000</td>\n",
       "      <td>2.452177</td>\n",
       "      <td>0.0</td>\n",
       "      <td>0.395891</td>\n",
       "      <td>2.338217</td>\n",
       "      <td>6.194808</td>\n",
       "      <td>2.048451</td>\n",
       "      <td>1.194318</td>\n",
       "      <td>8.530047</td>\n",
       "      <td>3.685528</td>\n",
       "      <td>9.696782</td>\n",
       "      <td>2.769909</td>\n",
       "      <td>21.6</td>\n",
       "      <td>NaN</td>\n",
       "    </tr>\n",
       "    <tr>\n",
       "      <th>2</th>\n",
       "      <td>0.026979</td>\n",
       "      <td>0.000000</td>\n",
       "      <td>2.452177</td>\n",
       "      <td>0.0</td>\n",
       "      <td>0.395891</td>\n",
       "      <td>2.471552</td>\n",
       "      <td>5.717662</td>\n",
       "      <td>2.048451</td>\n",
       "      <td>1.194318</td>\n",
       "      <td>8.530047</td>\n",
       "      <td>3.685528</td>\n",
       "      <td>9.671565</td>\n",
       "      <td>1.827953</td>\n",
       "      <td>34.7</td>\n",
       "      <td>0.542308</td>\n",
       "    </tr>\n",
       "    <tr>\n",
       "      <th>3</th>\n",
       "      <td>0.031933</td>\n",
       "      <td>0.000000</td>\n",
       "      <td>1.263326</td>\n",
       "      <td>0.0</td>\n",
       "      <td>0.387933</td>\n",
       "      <td>2.439927</td>\n",
       "      <td>5.203194</td>\n",
       "      <td>2.271527</td>\n",
       "      <td>1.540963</td>\n",
       "      <td>8.335517</td>\n",
       "      <td>3.758396</td>\n",
       "      <td>9.682745</td>\n",
       "      <td>1.522377</td>\n",
       "      <td>33.4</td>\n",
       "      <td>NaN</td>\n",
       "    </tr>\n",
       "    <tr>\n",
       "      <th>4</th>\n",
       "      <td>0.067106</td>\n",
       "      <td>0.000000</td>\n",
       "      <td>1.263326</td>\n",
       "      <td>0.0</td>\n",
       "      <td>0.387933</td>\n",
       "      <td>2.465176</td>\n",
       "      <td>5.500784</td>\n",
       "      <td>2.271527</td>\n",
       "      <td>1.540963</td>\n",
       "      <td>8.335517</td>\n",
       "      <td>3.758396</td>\n",
       "      <td>9.696782</td>\n",
       "      <td>2.125973</td>\n",
       "      <td>36.2</td>\n",
       "      <td>0.501822</td>\n",
       "    </tr>\n",
       "  </tbody>\n",
       "</table>\n",
       "</div>"
      ],
      "text/plain": [
       "       CRIM        ZN     INDUS  CHAS       NOX        RM       AGE       DIS  \\\n",
       "0  0.006303  3.701973  1.311130   0.0  0.444686  2.366003  5.837001  1.843076   \n",
       "1  0.026998  0.000000  2.452177   0.0  0.395891  2.338217  6.194808  2.048451   \n",
       "2  0.026979  0.000000  2.452177   0.0  0.395891  2.471552  5.717662  2.048451   \n",
       "3  0.031933  0.000000  1.263326   0.0  0.387933  2.439927  5.203194  2.271527   \n",
       "4  0.067106  0.000000  1.263326   0.0  0.387933  2.465176  5.500784  2.271527   \n",
       "\n",
       "        RAD       TAX   PTRATIO         B     LSTAT  price  new_feat  \n",
       "0  0.730463  8.994431  3.466306  9.696782  2.051274   24.0       NaN  \n",
       "1  1.194318  8.530047  3.685528  9.696782  2.769909   21.6       NaN  \n",
       "2  1.194318  8.530047  3.685528  9.671565  1.827953   34.7  0.542308  \n",
       "3  1.540963  8.335517  3.758396  9.682745  1.522377   33.4       NaN  \n",
       "4  1.540963  8.335517  3.758396  9.696782  2.125973   36.2  0.501822  "
      ]
     },
     "execution_count": 11,
     "metadata": {},
     "output_type": "execute_result"
    }
   ],
   "source": [
    "df['new_feat'] = dummy_nans\n",
    "df.head()"
   ]
  },
  {
   "cell_type": "code",
   "execution_count": 12,
   "metadata": {},
   "outputs": [
    {
     "data": {
      "text/plain": [
       "[('new_feat', 0.534)]"
      ]
     },
     "execution_count": 12,
     "metadata": {},
     "output_type": "execute_result"
    }
   ],
   "source": [
    "ds_utils.feature_engineering.get_nan_col_proportions(df)"
   ]
  },
  {
   "cell_type": "code",
   "execution_count": 13,
   "metadata": {},
   "outputs": [
    {
     "data": {
      "text/html": [
       "<div>\n",
       "<style scoped>\n",
       "    .dataframe tbody tr th:only-of-type {\n",
       "        vertical-align: middle;\n",
       "    }\n",
       "\n",
       "    .dataframe tbody tr th {\n",
       "        vertical-align: top;\n",
       "    }\n",
       "\n",
       "    .dataframe thead th {\n",
       "        text-align: right;\n",
       "    }\n",
       "</style>\n",
       "<table border=\"1\" class=\"dataframe\">\n",
       "  <thead>\n",
       "    <tr style=\"text-align: right;\">\n",
       "      <th></th>\n",
       "      <th>CRIM</th>\n",
       "      <th>ZN</th>\n",
       "      <th>INDUS</th>\n",
       "      <th>CHAS</th>\n",
       "      <th>NOX</th>\n",
       "      <th>RM</th>\n",
       "      <th>AGE</th>\n",
       "      <th>DIS</th>\n",
       "      <th>RAD</th>\n",
       "      <th>TAX</th>\n",
       "      <th>PTRATIO</th>\n",
       "      <th>B</th>\n",
       "      <th>LSTAT</th>\n",
       "      <th>price</th>\n",
       "    </tr>\n",
       "  </thead>\n",
       "  <tbody>\n",
       "    <tr>\n",
       "      <th>0</th>\n",
       "      <td>0.006303</td>\n",
       "      <td>3.701973</td>\n",
       "      <td>1.311130</td>\n",
       "      <td>0.0</td>\n",
       "      <td>0.444686</td>\n",
       "      <td>2.366003</td>\n",
       "      <td>5.837001</td>\n",
       "      <td>1.843076</td>\n",
       "      <td>0.730463</td>\n",
       "      <td>8.994431</td>\n",
       "      <td>3.466306</td>\n",
       "      <td>9.696782</td>\n",
       "      <td>2.051274</td>\n",
       "      <td>24.0</td>\n",
       "    </tr>\n",
       "    <tr>\n",
       "      <th>1</th>\n",
       "      <td>0.026998</td>\n",
       "      <td>0.000000</td>\n",
       "      <td>2.452177</td>\n",
       "      <td>0.0</td>\n",
       "      <td>0.395891</td>\n",
       "      <td>2.338217</td>\n",
       "      <td>6.194808</td>\n",
       "      <td>2.048451</td>\n",
       "      <td>1.194318</td>\n",
       "      <td>8.530047</td>\n",
       "      <td>3.685528</td>\n",
       "      <td>9.696782</td>\n",
       "      <td>2.769909</td>\n",
       "      <td>21.6</td>\n",
       "    </tr>\n",
       "    <tr>\n",
       "      <th>2</th>\n",
       "      <td>0.026979</td>\n",
       "      <td>0.000000</td>\n",
       "      <td>2.452177</td>\n",
       "      <td>0.0</td>\n",
       "      <td>0.395891</td>\n",
       "      <td>2.471552</td>\n",
       "      <td>5.717662</td>\n",
       "      <td>2.048451</td>\n",
       "      <td>1.194318</td>\n",
       "      <td>8.530047</td>\n",
       "      <td>3.685528</td>\n",
       "      <td>9.671565</td>\n",
       "      <td>1.827953</td>\n",
       "      <td>34.7</td>\n",
       "    </tr>\n",
       "    <tr>\n",
       "      <th>3</th>\n",
       "      <td>0.031933</td>\n",
       "      <td>0.000000</td>\n",
       "      <td>1.263326</td>\n",
       "      <td>0.0</td>\n",
       "      <td>0.387933</td>\n",
       "      <td>2.439927</td>\n",
       "      <td>5.203194</td>\n",
       "      <td>2.271527</td>\n",
       "      <td>1.540963</td>\n",
       "      <td>8.335517</td>\n",
       "      <td>3.758396</td>\n",
       "      <td>9.682745</td>\n",
       "      <td>1.522377</td>\n",
       "      <td>33.4</td>\n",
       "    </tr>\n",
       "    <tr>\n",
       "      <th>4</th>\n",
       "      <td>0.067106</td>\n",
       "      <td>0.000000</td>\n",
       "      <td>1.263326</td>\n",
       "      <td>0.0</td>\n",
       "      <td>0.387933</td>\n",
       "      <td>2.465176</td>\n",
       "      <td>5.500784</td>\n",
       "      <td>2.271527</td>\n",
       "      <td>1.540963</td>\n",
       "      <td>8.335517</td>\n",
       "      <td>3.758396</td>\n",
       "      <td>9.696782</td>\n",
       "      <td>2.125973</td>\n",
       "      <td>36.2</td>\n",
       "    </tr>\n",
       "  </tbody>\n",
       "</table>\n",
       "</div>"
      ],
      "text/plain": [
       "       CRIM        ZN     INDUS  CHAS       NOX        RM       AGE       DIS  \\\n",
       "0  0.006303  3.701973  1.311130   0.0  0.444686  2.366003  5.837001  1.843076   \n",
       "1  0.026998  0.000000  2.452177   0.0  0.395891  2.338217  6.194808  2.048451   \n",
       "2  0.026979  0.000000  2.452177   0.0  0.395891  2.471552  5.717662  2.048451   \n",
       "3  0.031933  0.000000  1.263326   0.0  0.387933  2.439927  5.203194  2.271527   \n",
       "4  0.067106  0.000000  1.263326   0.0  0.387933  2.465176  5.500784  2.271527   \n",
       "\n",
       "        RAD       TAX   PTRATIO         B     LSTAT  price  \n",
       "0  0.730463  8.994431  3.466306  9.696782  2.051274   24.0  \n",
       "1  1.194318  8.530047  3.685528  9.696782  2.769909   21.6  \n",
       "2  1.194318  8.530047  3.685528  9.671565  1.827953   34.7  \n",
       "3  1.540963  8.335517  3.758396  9.682745  1.522377   33.4  \n",
       "4  1.540963  8.335517  3.758396  9.696782  2.125973   36.2  "
      ]
     },
     "execution_count": 13,
     "metadata": {},
     "output_type": "execute_result"
    }
   ],
   "source": [
    "df = ds_utils.feature_engineering.remove_nan_cols(df)\n",
    "df.head()"
   ]
  }
 ],
 "metadata": {
  "kernelspec": {
   "display_name": "Python 3",
   "language": "python",
   "name": "python3"
  },
  "language_info": {
   "codemirror_mode": {
    "name": "ipython",
    "version": 3
   },
   "file_extension": ".py",
   "mimetype": "text/x-python",
   "name": "python",
   "nbconvert_exporter": "python",
   "pygments_lexer": "ipython3",
   "version": "3.7.5"
  }
 },
 "nbformat": 4,
 "nbformat_minor": 2
}
